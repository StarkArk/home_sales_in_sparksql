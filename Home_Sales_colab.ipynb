{
  "cells": [
    {
      "cell_type": "markdown",
      "metadata": {
        "id": "view-in-github",
        "colab_type": "text"
      },
      "source": [
        "<a href=\"https://colab.research.google.com/github/StarkArk/home_sales_in_sparksql/blob/main/Home_Sales_colab.ipynb\" target=\"_parent\"><img src=\"https://colab.research.google.com/assets/colab-badge.svg\" alt=\"Open In Colab\"/></a>"
      ]
    },
    {
      "cell_type": "code",
      "execution_count": 1,
      "metadata": {
        "colab": {
          "base_uri": "https://localhost:8080/"
        },
        "id": "a_KW73O2e3dw",
        "outputId": "6ec8cce6-9ebe-4bca-cfe2-3964f0d8df3a"
      },
      "outputs": [
        {
          "output_type": "stream",
          "name": "stdout",
          "text": [
            "\r0% [Working]\r            \rGet:1 https://cloud.r-project.org/bin/linux/ubuntu jammy-cran40/ InRelease [3,626 B]\n",
            "\r0% [Connecting to archive.ubuntu.com (185.125.190.36)] [Connecting to security.ubuntu.com (185.125.1\r0% [Connecting to archive.ubuntu.com (185.125.190.36)] [Connecting to security.ubuntu.com (185.125.1\r                                                                                                    \rHit:2 https://developer.download.nvidia.com/compute/cuda/repos/ubuntu2204/x86_64  InRelease\n",
            "\r0% [Waiting for headers] [Waiting for headers] [Connected to ppa.launchpadcontent.net (185.125.190.8\r                                                                                                    \rGet:3 http://security.ubuntu.com/ubuntu jammy-security InRelease [110 kB]\n",
            "Hit:4 http://archive.ubuntu.com/ubuntu jammy InRelease\n",
            "Get:5 http://archive.ubuntu.com/ubuntu jammy-updates InRelease [119 kB]\n",
            "Hit:6 https://ppa.launchpadcontent.net/c2d4u.team/c2d4u4.0+/ubuntu jammy InRelease\n",
            "Hit:7 https://ppa.launchpadcontent.net/deadsnakes/ppa/ubuntu jammy InRelease\n",
            "Hit:8 https://ppa.launchpadcontent.net/graphics-drivers/ppa/ubuntu jammy InRelease\n",
            "Hit:9 http://archive.ubuntu.com/ubuntu jammy-backports InRelease\n",
            "Hit:10 https://ppa.launchpadcontent.net/ubuntugis/ppa/ubuntu jammy InRelease\n",
            "Get:11 http://security.ubuntu.com/ubuntu jammy-security/universe amd64 Packages [1,068 kB]\n",
            "Get:12 http://archive.ubuntu.com/ubuntu jammy-updates/main amd64 Packages [1,735 kB]\n",
            "Get:13 http://security.ubuntu.com/ubuntu jammy-security/main amd64 Packages [1,455 kB]\n",
            "Get:14 http://security.ubuntu.com/ubuntu jammy-security/restricted amd64 Packages [1,784 kB]\n",
            "Get:15 http://archive.ubuntu.com/ubuntu jammy-updates/universe amd64 Packages [1,339 kB]\n",
            "Fetched 7,613 kB in 2s (3,832 kB/s)\n",
            "Reading package lists... Done\n"
          ]
        }
      ],
      "source": [
        "import os\n",
        "# Find the latest version of spark 3.x  from http://www.apache.org/dist/spark/ and enter as the spark version\n",
        "# For example:\n",
        "# spark_version = 'spark-3.5.0'\n",
        "spark_version = 'spark-3.5.0'\n",
        "os.environ['SPARK_VERSION']=spark_version\n",
        "\n",
        "# Install Spark and Java\n",
        "!apt-get update\n",
        "!apt-get install openjdk-11-jdk-headless -qq > /dev/null\n",
        "!wget -q http://www.apache.org/dist/spark/$SPARK_VERSION/$SPARK_VERSION-bin-hadoop3.tgz\n",
        "!tar xf $SPARK_VERSION-bin-hadoop3.tgz\n",
        "!pip install -q findspark\n",
        "\n",
        "# Set Environment Variables\n",
        "os.environ[\"JAVA_HOME\"] = \"/usr/lib/jvm/java-11-openjdk-amd64\"\n",
        "os.environ[\"SPARK_HOME\"] = f\"/content/{spark_version}-bin-hadoop3\"\n",
        "\n",
        "# Start a SparkSession\n",
        "import findspark\n",
        "findspark.init()"
      ]
    },
    {
      "cell_type": "code",
      "execution_count": 2,
      "metadata": {
        "id": "2XbWNf1Te5fM"
      },
      "outputs": [],
      "source": [
        "# Import packages\n",
        "from pyspark.sql import SparkSession\n",
        "import time\n",
        "\n",
        "# Create a SparkSession\n",
        "spark = SparkSession.builder.appName(\"SparkSQL\").getOrCreate()"
      ]
    },
    {
      "cell_type": "code",
      "execution_count": 3,
      "metadata": {
        "id": "wOJqxG_RPSwp"
      },
      "outputs": [],
      "source": [
        "# 1. Read in the AWS S3 bucket into a DataFrame.\n",
        "from pyspark import SparkFiles\n",
        "url = \"https://2u-data-curriculum-team.s3.amazonaws.com/dataviz-classroom/v1.2/22-big-data/home_sales_revised.csv\"\n",
        "spark.sparkContext.addFile(url)\n",
        "home_sales_df = spark.read.csv(SparkFiles.get(\"home_sales_revised.csv\"), sep=\",\", header=True)\n"
      ]
    },
    {
      "cell_type": "code",
      "source": [
        "# Look at the home sales data\n",
        "home_sales_df.show()"
      ],
      "metadata": {
        "colab": {
          "base_uri": "https://localhost:8080/"
        },
        "id": "hxd49H6BiVrk",
        "outputId": "5c001479-a44f-47b5-e043-8d0dbb139599"
      },
      "execution_count": 4,
      "outputs": [
        {
          "output_type": "stream",
          "name": "stdout",
          "text": [
            "+--------------------+----------+----------+------+--------+---------+-----------+--------+------+----------+----+\n",
            "|                  id|      date|date_built| price|bedrooms|bathrooms|sqft_living|sqft_lot|floors|waterfront|view|\n",
            "+--------------------+----------+----------+------+--------+---------+-----------+--------+------+----------+----+\n",
            "|f8a53099-ba1c-47d...|2022-04-08|      2016|936923|       4|        3|       3167|   11733|     2|         1|  76|\n",
            "|7530a2d8-1ae3-451...|2021-06-13|      2013|379628|       2|        2|       2235|   14384|     1|         0|  23|\n",
            "|43de979c-0bf0-4c9...|2019-04-12|      2014|417866|       2|        2|       2127|   10575|     2|         0|   0|\n",
            "|b672c137-b88c-48b...|2019-10-16|      2016|239895|       2|        2|       1631|   11149|     2|         0|   0|\n",
            "|e0726d4d-d595-407...|2022-01-08|      2017|424418|       3|        2|       2249|   13878|     2|         0|   4|\n",
            "|5aa00529-0533-46b...|2019-01-30|      2017|218712|       2|        3|       1965|   14375|     2|         0|   7|\n",
            "|131492a1-72e2-4a8...|2020-02-08|      2017|419199|       2|        3|       2062|    8876|     2|         0|   6|\n",
            "|8d54a71b-c520-44e...|2019-07-21|      2010|323956|       2|        3|       1506|   11816|     1|         0|  25|\n",
            "|e81aacfe-17fe-46b...|2020-06-16|      2016|181925|       3|        3|       2137|   11709|     2|         0|  22|\n",
            "|2ed8d509-7372-46d...|2021-08-06|      2015|258710|       3|        3|       1918|    9666|     1|         0|  25|\n",
            "|f876d86f-3c9f-42b...|2019-02-27|      2011|167864|       3|        3|       2471|   13924|     2|         0|  15|\n",
            "|0a2bd445-8508-4d8...|2021-12-30|      2014|337527|       2|        3|       1926|   12556|     1|         0|  23|\n",
            "|941bad30-eb49-4a7...|2020-05-09|      2015|229896|       3|        3|       2197|    8641|     1|         0|   3|\n",
            "|dd61eb34-6589-4c0...|2021-07-25|      2016|210247|       3|        2|       1672|   11986|     2|         0|  28|\n",
            "|f1e4cef7-d151-439...|2019-02-01|      2011|398667|       2|        3|       2331|   11356|     1|         0|   7|\n",
            "|ea620c7b-c2f7-4c6...|2021-05-31|      2011|437958|       3|        3|       2356|   11052|     1|         0|  26|\n",
            "|f233cb41-6f33-4b0...|2021-07-18|      2016|437375|       4|        3|       1704|   11721|     2|         0|  34|\n",
            "|c797ca12-52cd-4b1...|2019-06-08|      2015|288650|       2|        3|       2100|   10419|     2|         0|   7|\n",
            "|0cfe57f3-28c2-472...|2019-10-04|      2015|308313|       3|        3|       1960|    9453|     2|         0|   2|\n",
            "|4566cd2a-ac6e-435...|2019-07-15|      2016|177541|       3|        3|       2130|   10517|     2|         0|  25|\n",
            "+--------------------+----------+----------+------+--------+---------+-----------+--------+------+----------+----+\n",
            "only showing top 20 rows\n",
            "\n"
          ]
        }
      ]
    },
    {
      "cell_type": "code",
      "source": [
        "# Print the schema of the DataFrame\n",
        "home_sales_df.printSchema()"
      ],
      "metadata": {
        "colab": {
          "base_uri": "https://localhost:8080/"
        },
        "id": "cDZPL7tLjUxE",
        "outputId": "4f5b4d06-70d5-407b-9131-13a1a01da91b"
      },
      "execution_count": 5,
      "outputs": [
        {
          "output_type": "stream",
          "name": "stdout",
          "text": [
            "root\n",
            " |-- id: string (nullable = true)\n",
            " |-- date: string (nullable = true)\n",
            " |-- date_built: string (nullable = true)\n",
            " |-- price: string (nullable = true)\n",
            " |-- bedrooms: string (nullable = true)\n",
            " |-- bathrooms: string (nullable = true)\n",
            " |-- sqft_living: string (nullable = true)\n",
            " |-- sqft_lot: string (nullable = true)\n",
            " |-- floors: string (nullable = true)\n",
            " |-- waterfront: string (nullable = true)\n",
            " |-- view: string (nullable = true)\n",
            "\n"
          ]
        }
      ]
    },
    {
      "cell_type": "code",
      "execution_count": 11,
      "metadata": {
        "id": "RoljcJ7WPpnm"
      },
      "outputs": [],
      "source": [
        "# 2. Create a temporary view of the DataFrame.\n",
        "home_sales_df.createOrReplaceTempView('home_sales')\n",
        "\n"
      ]
    },
    {
      "cell_type": "code",
      "execution_count": 15,
      "metadata": {
        "id": "L6fkwOeOmqvq",
        "colab": {
          "base_uri": "https://localhost:8080/"
        },
        "outputId": "bd16670f-971b-4aaf-fdb2-f11fff979131"
      },
      "outputs": [
        {
          "output_type": "stream",
          "name": "stdout",
          "text": [
            "+--------+--------------------+\n",
            "|bedrooms|round(avg(price), 2)|\n",
            "+--------+--------------------+\n",
            "|       4|           299661.01|\n",
            "+--------+--------------------+\n",
            "\n"
          ]
        }
      ],
      "source": [
        "# 3. What is the average price for a four bedroom house sold in each year rounded to two decimal places?\n",
        "spark.sql(\"\"\"SELECT bedrooms, ROUND(AVG(price),2) FROM home_sales WHERE bedrooms = '4' GROUP BY 1\"\"\").show()"
      ]
    },
    {
      "cell_type": "code",
      "execution_count": 22,
      "metadata": {
        "id": "l8p_tUS8h8it",
        "colab": {
          "base_uri": "https://localhost:8080/"
        },
        "outputId": "2ad0212c-92a4-48ba-93c5-ff52aabb49c1"
      },
      "outputs": [
        {
          "output_type": "stream",
          "name": "stdout",
          "text": [
            "+----------+--------+---------+-------------+\n",
            "|year_built|bedrooms|bathrooms|average_price|\n",
            "+----------+--------+---------+-------------+\n",
            "|      2010|       3|        3|    292859.62|\n",
            "|      2011|       3|        3|    291117.47|\n",
            "|      2012|       3|        3|    293683.19|\n",
            "|      2013|       3|        3|    295962.27|\n",
            "|      2014|       3|        3|    290852.27|\n",
            "|      2015|       3|        3|     288770.3|\n",
            "|      2016|       3|        3|    290555.07|\n",
            "|      2017|       3|        3|    292676.79|\n",
            "+----------+--------+---------+-------------+\n",
            "\n"
          ]
        }
      ],
      "source": [
        "# 4. What is the average price of a home for each year the home was built that have 3 bedrooms and 3 bathrooms rounded to two decimal places?\n",
        "spark.sql(\"\"\"SELECT date_built AS year_built, bedrooms, bathrooms, ROUND(AVG(price),2) as average_price FROM home_sales WHERE bedrooms='3' AND bathrooms='3' GROUP BY 1, 2, 3 ORDER BY year_built ASC\"\"\").show()\n"
      ]
    },
    {
      "cell_type": "code",
      "source": [
        "# 4(B). What is the average price of a home for each year homes were sold that have 3 bedrooms and 3 bathrooms rounded to two decimal places?\n",
        "spark.sql(\"\"\"SELECT EXTRACT(YEAR FROM date) AS year_sold, bedrooms, bathrooms, ROUND(AVG(price),2) as average_price\n",
        "             FROM home_sales WHERE bedrooms='3' AND bathrooms='3' GROUP BY 1, 2, 3 ORDER BY year_sold ASC\"\"\").show()"
      ],
      "metadata": {
        "colab": {
          "base_uri": "https://localhost:8080/"
        },
        "id": "X0CGTWKbrYCv",
        "outputId": "15f780ab-7789-4a46-97f8-e3ed5e16a53e"
      },
      "execution_count": 25,
      "outputs": [
        {
          "output_type": "stream",
          "name": "stdout",
          "text": [
            "+---------+--------+---------+-------------+\n",
            "|year_sold|bedrooms|bathrooms|average_price|\n",
            "+---------+--------+---------+-------------+\n",
            "|     2019|       3|        3|    287287.82|\n",
            "|     2020|       3|        3|    294204.16|\n",
            "|     2021|       3|        3|    294211.46|\n",
            "|     2022|       3|        3|    292725.69|\n",
            "+---------+--------+---------+-------------+\n",
            "\n"
          ]
        }
      ]
    },
    {
      "cell_type": "code",
      "execution_count": 27,
      "metadata": {
        "id": "Y-Eytz64liDU",
        "colab": {
          "base_uri": "https://localhost:8080/"
        },
        "outputId": "03df6def-811e-4bda-98a1-e2ca32087e07"
      },
      "outputs": [
        {
          "output_type": "stream",
          "name": "stdout",
          "text": [
            "+----------+--------+---------+------+-------------+\n",
            "|year_built|bedrooms|bathrooms|floors|average_price|\n",
            "+----------+--------+---------+------+-------------+\n",
            "|      2010|       3|        3|     2|    285010.22|\n",
            "|      2011|       3|        3|     2|    276553.81|\n",
            "|      2012|       3|        3|     2|    307539.97|\n",
            "|      2013|       3|        3|     2|    303676.79|\n",
            "|      2014|       3|        3|     2|    298264.72|\n",
            "|      2015|       3|        3|     2|    297609.97|\n",
            "|      2016|       3|        3|     2|     293965.1|\n",
            "|      2017|       3|        3|     2|    280317.58|\n",
            "+----------+--------+---------+------+-------------+\n",
            "\n"
          ]
        }
      ],
      "source": [
        "# 5. What is the average price of a home for each year built that have 3 bedrooms, 3 bathrooms, with two floors,\n",
        "# and are greater than or equal to 2,000 square feet rounded to two decimal places?\n",
        "spark.sql(\"\"\"SELECT\n",
        "date_built AS year_built,\n",
        "bedrooms,\n",
        "bathrooms,\n",
        "floors,\n",
        "ROUND(AVG(price),2) as average_price\n",
        "FROM home_sales\n",
        "WHERE bedrooms='3' AND bathrooms='3' AND floors='2' AND sqft_living >= 2000\n",
        "GROUP BY 1, 2, 3, 4\n",
        "ORDER BY year_built ASC\"\"\").show()\n"
      ]
    },
    {
      "cell_type": "code",
      "execution_count": 46,
      "metadata": {
        "colab": {
          "base_uri": "https://localhost:8080/"
        },
        "id": "GUrfgOX1pCRd",
        "outputId": "4648432d-4c00-4dca-c67c-60414618957d"
      },
      "outputs": [
        {
          "output_type": "stream",
          "name": "stdout",
          "text": [
            "+-----------+---------+\n",
            "|view_rating|avg_price|\n",
            "+-----------+---------+\n",
            "|        100|  1026669|\n",
            "|         99|  1061201|\n",
            "|         98|  1053739|\n",
            "|         97|  1129040|\n",
            "|         96|  1017815|\n",
            "|         95|  1054325|\n",
            "|         94|  1033536|\n",
            "|         93|  1026006|\n",
            "|         92|   970402|\n",
            "|         91|  1137372|\n",
            "|         90|  1062654|\n",
            "|         89|  1107839|\n",
            "|         88|  1031719|\n",
            "|         87|  1072285|\n",
            "|         86|  1070444|\n",
            "|         85|  1056336|\n",
            "|         84|  1117233|\n",
            "|         83|  1033965|\n",
            "|         82|  1063498|\n",
            "|         81|  1053472|\n",
            "|         80|   991767|\n",
            "|         79|  1009565|\n",
            "|         78|  1080649|\n",
            "|         77|  1076205|\n",
            "|         76|  1058802|\n",
            "|         75|  1114042|\n",
            "|         74|   745077|\n",
            "|         73|   752861|\n",
            "|         72|   780914|\n",
            "|         71|   775651|\n",
            "|         70|   695865|\n",
            "|         69|   750537|\n",
            "|         68|   716785|\n",
            "|         67|   737970|\n",
            "|         66|   712475|\n",
            "|         65|   736679|\n",
            "|         64|   767036|\n",
            "|         63|   711614|\n",
            "|         62|   759150|\n",
            "|         61|   746877|\n",
            "|         60|   754939|\n",
            "|         59|   791453|\n",
            "|         58|   759764|\n",
            "|         57|   734340|\n",
            "|         56|   718176|\n",
            "|         55|   771153|\n",
            "|         54|   798684|\n",
            "|         53|   755214|\n",
            "|         52|   733780|\n",
            "|         51|   788128|\n",
            "+-----------+---------+\n",
            "\n",
            "--- 0.558542013168335 seconds ---\n"
          ]
        }
      ],
      "source": [
        "# 6. What is the \"view\" rating for the average price of a home, rounded to two decimal places, where the homes are greater than\n",
        "# or equal to $350,000? Although this is a small dataset, determine the run time for this query.\n",
        "\n",
        "start_time = time.time()\n",
        "\n",
        "spark.sql(\"\"\"\n",
        "WITH pricey_views AS\n",
        "  (SELECT view as view_rating, ROUND(AVG(price),2) as average_price\n",
        "   FROM home_sales\n",
        "   GROUP BY view_rating\n",
        "   ORDER BY view_rating DESC)\n",
        "\n",
        "SELECT CAST(view_rating AS INTEGER) as view_rating, CAST(average_price AS INTEGER) AS avg_price\n",
        "FROM pricey_views\n",
        "WHERE average_price >= 350000\n",
        "ORDER BY view_rating DESC\n",
        "\"\"\"\n",
        ").show(60)\n",
        "\n",
        "print(\"--- %s seconds ---\" % (time.time() - start_time))"
      ]
    },
    {
      "cell_type": "code",
      "execution_count": 47,
      "metadata": {
        "id": "KAhk3ZD2tFy8",
        "colab": {
          "base_uri": "https://localhost:8080/"
        },
        "outputId": "b82f6c15-b6a9-4a9e-ef3d-5440bdfdad11"
      },
      "outputs": [
        {
          "output_type": "execute_result",
          "data": {
            "text/plain": [
              "DataFrame[]"
            ]
          },
          "metadata": {},
          "execution_count": 47
        }
      ],
      "source": [
        "# 7. Cache the the temporary table home_sales.\n",
        "spark.sql(\"cache table home_sales\")"
      ]
    },
    {
      "cell_type": "code",
      "execution_count": 48,
      "metadata": {
        "id": "4opVhbvxtL-i",
        "colab": {
          "base_uri": "https://localhost:8080/"
        },
        "outputId": "8a17f1f2-8e2d-46ae-bb39-d040d135e769"
      },
      "outputs": [
        {
          "output_type": "execute_result",
          "data": {
            "text/plain": [
              "True"
            ]
          },
          "metadata": {},
          "execution_count": 48
        }
      ],
      "source": [
        "# 8. Check if the table is cached.\n",
        "spark.catalog.isCached('home_sales')"
      ]
    },
    {
      "cell_type": "code",
      "execution_count": 49,
      "metadata": {
        "colab": {
          "base_uri": "https://localhost:8080/"
        },
        "id": "5GnL46lwTSEk",
        "outputId": "7e36f56d-f153-49dd-ef9e-0343ccdc7492"
      },
      "outputs": [
        {
          "output_type": "stream",
          "name": "stdout",
          "text": [
            "+-----------+---------+\n",
            "|view_rating|avg_price|\n",
            "+-----------+---------+\n",
            "|        100|  1026669|\n",
            "|         99|  1061201|\n",
            "|         98|  1053739|\n",
            "|         97|  1129040|\n",
            "|         96|  1017815|\n",
            "|         95|  1054325|\n",
            "|         94|  1033536|\n",
            "|         93|  1026006|\n",
            "|         92|   970402|\n",
            "|         91|  1137372|\n",
            "|         90|  1062654|\n",
            "|         89|  1107839|\n",
            "|         88|  1031719|\n",
            "|         87|  1072285|\n",
            "|         86|  1070444|\n",
            "|         85|  1056336|\n",
            "|         84|  1117233|\n",
            "|         83|  1033965|\n",
            "|         82|  1063498|\n",
            "|         81|  1053472|\n",
            "|         80|   991767|\n",
            "|         79|  1009565|\n",
            "|         78|  1080649|\n",
            "|         77|  1076205|\n",
            "|         76|  1058802|\n",
            "|         75|  1114042|\n",
            "|         74|   745077|\n",
            "|         73|   752861|\n",
            "|         72|   780914|\n",
            "|         71|   775651|\n",
            "|         70|   695865|\n",
            "|         69|   750537|\n",
            "|         68|   716785|\n",
            "|         67|   737970|\n",
            "|         66|   712475|\n",
            "|         65|   736679|\n",
            "|         64|   767036|\n",
            "|         63|   711614|\n",
            "|         62|   759150|\n",
            "|         61|   746877|\n",
            "|         60|   754939|\n",
            "|         59|   791453|\n",
            "|         58|   759764|\n",
            "|         57|   734340|\n",
            "|         56|   718176|\n",
            "|         55|   771153|\n",
            "|         54|   798684|\n",
            "|         53|   755214|\n",
            "|         52|   733780|\n",
            "|         51|   788128|\n",
            "+-----------+---------+\n",
            "\n",
            "--- 0.5339124202728271 seconds ---\n"
          ]
        }
      ],
      "source": [
        "# 9. Using the cached data, run the query that filters out the view ratings with average price\n",
        "#  greater than or equal to $350,000. Determine the runtime and compare it to uncached runtime.\n",
        "\n",
        "start_time = time.time()\n",
        "\n",
        "spark.sql(\"\"\"\n",
        "WITH pricey_views AS\n",
        "  (SELECT view as view_rating, ROUND(AVG(price),2) as average_price\n",
        "   FROM home_sales\n",
        "   GROUP BY view_rating\n",
        "   ORDER BY view_rating DESC)\n",
        "\n",
        "SELECT CAST(view_rating AS INTEGER) as view_rating, CAST(average_price AS INTEGER) AS avg_price\n",
        "FROM pricey_views\n",
        "WHERE average_price >= 350000\n",
        "ORDER BY view_rating DESC\n",
        "\"\"\"\n",
        ").show(60)\n",
        "\n",
        "print(\"--- %s seconds ---\" % (time.time() - start_time))\n"
      ]
    },
    {
      "cell_type": "code",
      "execution_count": 51,
      "metadata": {
        "id": "Qm12WN9isHBR"
      },
      "outputs": [],
      "source": [
        "# 10. Partition by the \"date_built\" field on the formatted parquet home sales data\n",
        "home_sales_df.write.partitionBy(\"date_built\").mode(\"overwrite\").parquet(\"home_sales_partitioned\")"
      ]
    },
    {
      "cell_type": "code",
      "execution_count": 52,
      "metadata": {
        "id": "AZ7BgY61sRqY"
      },
      "outputs": [],
      "source": [
        "# 11. Read the parquet formatted data.\n",
        "hs_df_p=spark.read.parquet('home_sales_partitioned')"
      ]
    },
    {
      "cell_type": "code",
      "execution_count": 53,
      "metadata": {
        "id": "J6MJkHfvVcvh"
      },
      "outputs": [],
      "source": [
        "# 12. Create a temporary table for the parquet data.\n",
        "hs_df_p.createOrReplaceTempView('home_sales_p')"
      ]
    },
    {
      "cell_type": "code",
      "execution_count": 54,
      "metadata": {
        "colab": {
          "base_uri": "https://localhost:8080/"
        },
        "id": "G_Vhb52rU1Sn",
        "outputId": "2af322db-2fea-4c88-e21a-31082b25cee8"
      },
      "outputs": [
        {
          "output_type": "stream",
          "name": "stdout",
          "text": [
            "+-----------+---------+\n",
            "|view_rating|avg_price|\n",
            "+-----------+---------+\n",
            "|        100|  1026669|\n",
            "|         99|  1061201|\n",
            "|         98|  1053739|\n",
            "|         97|  1129040|\n",
            "|         96|  1017815|\n",
            "|         95|  1054325|\n",
            "|         94|  1033536|\n",
            "|         93|  1026006|\n",
            "|         92|   970402|\n",
            "|         91|  1137372|\n",
            "|         90|  1062654|\n",
            "|         89|  1107839|\n",
            "|         88|  1031719|\n",
            "|         87|  1072285|\n",
            "|         86|  1070444|\n",
            "|         85|  1056336|\n",
            "|         84|  1117233|\n",
            "|         83|  1033965|\n",
            "|         82|  1063498|\n",
            "|         81|  1053472|\n",
            "|         80|   991767|\n",
            "|         79|  1009565|\n",
            "|         78|  1080649|\n",
            "|         77|  1076205|\n",
            "|         76|  1058802|\n",
            "|         75|  1114042|\n",
            "|         74|   745077|\n",
            "|         73|   752861|\n",
            "|         72|   780914|\n",
            "|         71|   775651|\n",
            "|         70|   695865|\n",
            "|         69|   750537|\n",
            "|         68|   716785|\n",
            "|         67|   737970|\n",
            "|         66|   712475|\n",
            "|         65|   736679|\n",
            "|         64|   767036|\n",
            "|         63|   711614|\n",
            "|         62|   759150|\n",
            "|         61|   746877|\n",
            "|         60|   754939|\n",
            "|         59|   791453|\n",
            "|         58|   759764|\n",
            "|         57|   734340|\n",
            "|         56|   718176|\n",
            "|         55|   771153|\n",
            "|         54|   798684|\n",
            "|         53|   755214|\n",
            "|         52|   733780|\n",
            "|         51|   788128|\n",
            "+-----------+---------+\n",
            "\n",
            "--- 1.058048963546753 seconds ---\n"
          ]
        }
      ],
      "source": [
        "# 13. Run the query that filters out the view ratings with average price of greater than or equal to $350,000\n",
        "# with the parquet DataFrame. Round your average to two decimal places.\n",
        "# Determine the runtime and compare it to the cached version.\n",
        "\n",
        "start_time = time.time()\n",
        "\n",
        "spark.sql(\"\"\"\n",
        "WITH pricey_views AS\n",
        "  (SELECT view as view_rating, ROUND(AVG(price),2) as average_price\n",
        "   FROM home_sales_p\n",
        "   GROUP BY view_rating\n",
        "   ORDER BY view_rating DESC)\n",
        "\n",
        "SELECT CAST(view_rating AS INTEGER) as view_rating, CAST(average_price AS INTEGER) AS avg_price\n",
        "FROM pricey_views\n",
        "WHERE average_price >= 350000\n",
        "ORDER BY view_rating DESC\n",
        "\"\"\"\n",
        ").show(60)\n",
        "\n",
        "print(\"--- %s seconds ---\" % (time.time() - start_time))"
      ]
    },
    {
      "cell_type": "code",
      "execution_count": 56,
      "metadata": {
        "id": "hjjYzQGjtbq8",
        "colab": {
          "base_uri": "https://localhost:8080/"
        },
        "outputId": "158fb7b8-148b-4ec9-ecc5-91c5127059fb"
      },
      "outputs": [
        {
          "output_type": "execute_result",
          "data": {
            "text/plain": [
              "DataFrame[]"
            ]
          },
          "metadata": {},
          "execution_count": 56
        }
      ],
      "source": [
        "# 14. Uncache the home_sales temporary table.\n",
        "spark.sql(\"uncache table home_sales\")"
      ]
    },
    {
      "cell_type": "code",
      "execution_count": 58,
      "metadata": {
        "id": "Sy9NBvO7tlmm",
        "colab": {
          "base_uri": "https://localhost:8080/"
        },
        "outputId": "8fda6e88-f73e-4c4e-9ce1-ef51d7bf61e8"
      },
      "outputs": [
        {
          "output_type": "execute_result",
          "data": {
            "text/plain": [
              "False"
            ]
          },
          "metadata": {},
          "execution_count": 58
        }
      ],
      "source": [
        "# 15. Check if the home_sales is no longer cached\n",
        "spark.catalog.isCached('home_sales')\n"
      ]
    },
    {
      "cell_type": "code",
      "execution_count": null,
      "metadata": {
        "id": "Si-BNruRUGK3"
      },
      "outputs": [],
      "source": []
    }
  ],
  "metadata": {
    "colab": {
      "provenance": [],
      "include_colab_link": true
    },
    "gpuClass": "standard",
    "kernelspec": {
      "display_name": "Python 3 (ipykernel)",
      "language": "python",
      "name": "python3"
    },
    "language_info": {
      "codemirror_mode": {
        "name": "ipython",
        "version": 3
      },
      "file_extension": ".py",
      "mimetype": "text/x-python",
      "name": "python",
      "nbconvert_exporter": "python",
      "pygments_lexer": "ipython3",
      "version": "3.10.4"
    },
    "nteract": {
      "version": "0.28.0"
    }
  },
  "nbformat": 4,
  "nbformat_minor": 0
}